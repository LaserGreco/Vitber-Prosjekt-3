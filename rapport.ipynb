{
 "cells": [
  {
   "cell_type": "markdown",
   "metadata": {},
   "source": [
    "# Dimensionality reduction and noise removal of face images with Non-Negative Matrix Factorization\n"
   ]
  },
  {
   "cell_type": "markdown",
   "metadata": {},
   "source": [
    "Introduksjon"
   ]
  },
  {
   "cell_type": "code",
   "execution_count": 3,
   "metadata": {},
   "outputs": [],
   "source": [
    "import numpy as np\n",
    "import matplotlib.pyplot as plt\n",
    "# Required to import cv2 !!!\n",
    "# %pip install opencv-python\n",
    "import cv2\n",
    "\n",
    "import os\n",
    "import time"
   ]
  },
  {
   "cell_type": "markdown",
   "metadata": {},
   "source": [
    "# Oppgave 1"
   ]
  },
  {
   "cell_type": "markdown",
   "metadata": {},
   "source": [
    "## a)"
   ]
  },
  {
   "cell_type": "markdown",
   "metadata": {},
   "source": [
    "Non-negative Matrix Factorization (NMF) is a technic used to represent a matrix A, but with a lower amount of data. The NMF-representation consists of two non-negative matrices W and H, where the dot product between W and H gives an approximation to the original matrix. Combined, W and H has fewer components than A, and consequently holds lower amounts of data. If A is a m x n matrix, W and H has dimensions, respectively, m x d and d x n. With a larger d, the NMF gives a better approximation to the original data. Normally one chooses a value of d that is much smaller than both n and m. However, it is important to choose a value of d that gives a good representation of A, but do not require considerable computational power. This is something we will look more into. "
   ]
  },
  {
   "cell_type": "markdown",
   "metadata": {},
   "source": [
    "<b>Induction</b>\n",
    "1. \n",
    "    $W_0$ and $H_0$ are initialzed as positive, and A is assumed to be non-negative. \\\n",
    "    $\\Rightarrow$ $W_0$ and $H_0$ are non-negative.\n",
    "2. \n",
    "    Assume $W_k$ and $H_k$ are non-negative.\n",
    "3. \n",
    "    Updates are given by:\n",
    "    \\begin{aligned}\n",
    "        (H_{k+1})_{ij} \\leftarrow & (H_k)_{ij} \\cdot \\frac{(W^T_k A)_{ij}}{(W^T_k W_k H_K)_{ij}} \\\\\n",
    "        (W_{k+1})_{ij} \\leftarrow & (W_k)_{ij} \\cdot \\frac{(A H^T_{k+1})_{ij}}{(W_k H_{k+1} H_{k+1}^T)_{ij}}\n",
    "    \\end{aligned}\n",
    "    Since the matrix product of two non-negative matricies is also non-negative, every matrix product in the updates are non-negative, assuming that every factor is non-negative. \\\n",
    "    For $(H_{k+1})_{ij}$ every factor in every matrix product is assumed to be non-negative. Meaning the final product is something non-negative and non-negative. Meaning that $(H_{k+1})_{ij}$ must be non-negative. \\\n",
    "    The same logic works for $(W_{k+1})_{ij}$, since we now know that $(H_{k+1})_{ij}$ is also non-negative.\n",
    "\n",
    "Therefore all iterates $W_{k}$ and $H_{k}$ are non-negative, by induction $\\Box$."
   ]
  },
  {
   "cell_type": "markdown",
   "metadata": {},
   "source": [
    "## b)"
   ]
  },
  {
   "cell_type": "markdown",
   "metadata": {},
   "source": [
    "Let $(W_k^T A) \\oslash (W_k^T W_k H_k)=J_{m,n}$ be a matrix of ones.\n",
    "\\begin{aligned}\n",
    "    & H_{k+1} \\leftarrow H_k \\odot (W^T_k A) \\oslash (W^T_k W_k H_k) \\\\\n",
    "    \\Rightarrow & H_{k+1} \\leftarrow H_k \\odot J_{m,n} \\\\\n",
    "    \\Rightarrow &\\underline{H_{k+1} \\leftarrow H_k} \\\\\n",
    "\\end{aligned}\n",
    "Therefore if $(W_k^T A) \\oslash (W_k^T W_k H_k)=J_{m,n}$ is a matrix of ones, then $H_{k+1}=H_K$ and $H_k$ is a fixed point $\\Box$.\n",
    "\n",
    "\n",
    "Let $W_k H_k = A$.\n",
    "\\begin{aligned}\n",
    "    (W_k^T A) \\oslash (W_k^T W_k H_k) = (W_k^T A) \\oslash (W_k^T A) = J_{m,n} \\\\\n",
    "\\end{aligned}\n",
    "Therefore if $W_k H_k = A$, $(W_k^T A) \\oslash (W_k^T W_k H_k)=J_{m,n}$ is a matrix of ones."
   ]
  },
  {
   "cell_type": "markdown",
   "metadata": {},
   "source": [
    "## c)"
   ]
  },
  {
   "cell_type": "markdown",
   "metadata": {},
   "source": [
    "Let $W_0=0_{m,d}$ and $H_0=0_{d,n}$.\n",
    "\\begin{aligned}\n",
    "    & H_{1} \\leftarrow H_0 \\odot (W^T_0 A) \\oslash (W^T_0 W_0 H_0) \\\\\n",
    "    \\Rightarrow & H_{1} \\leftarrow 0_{d,n} \\odot (0_{d,m} A) \\oslash (0_{d,m} 0_{m,d} 0_{d,n}) \\\\\n",
    "    \\Rightarrow & H_{1} \\leftarrow 0_{d,n} \\odot (0_{d,n}) \\oslash (0_{d,n}) \\\\\n",
    "\\end{aligned}\n",
    "This leads to being needed to calculate $0/0$, which is undefined. This is clearly problematic, and should be avoided."
   ]
  },
  {
   "cell_type": "markdown",
   "metadata": {},
   "source": [
    "# Oppgave 2"
   ]
  },
  {
   "cell_type": "markdown",
   "metadata": {},
   "source": [
    "## Introduksjon"
   ]
  },
  {
   "cell_type": "markdown",
   "metadata": {},
   "source": [
    "Now that NMF is both defined and implemented, it is interersting to investigate it's properties. Therefore there is a need of a large dataset to apply NMF to. The dataset which will be used is 10 000 Cryptopunks NFTs. A Cryptopunk is a digital 24 x 24 RGBA image. Every Cryptopunk is algorithmically generated, meaning certain features such as cigarettes and hairstyles are shared between images. This means that the images should be more or less able to be decomposed into image components, so that every image can be described as a sum of image components. To verify this claim we are going to make us of the NMF-algorithm to approximate such a components and decompisitions.\n",
    "\n",
    "Now we need to represent the data in such a way that it is possible to apply the NMF-algorithm. Firstly we randomly select N Cryptopunks from the pool of 10 000. This gives 500 24 x 24 RGBA images. A natural way to store the images is to store them in a 24 x 24 x 4 x N array, i.e. 24 rows x 24 columns x 4 color channels x N images. Below is a function which loads 500 randomly picked images from the dataset a stores them in an array as described. One thing to note is that the RGBA-values are divided by 255.0. This is to create a array of floats, with values from 0 to 1."
   ]
  },
  {
   "cell_type": "code",
   "execution_count": 5,
   "metadata": {},
   "outputs": [
    {
     "name": "stdout",
     "output_type": "stream",
     "text": [
      "(24, 24, 4, 500)\n"
     ]
    }
   ],
   "source": [
    "def load_images(N):\n",
    "    \"\"\"\n",
    "    Loads images from cryptopunk dataset. The loading order is deterministic,\n",
    "    so for a certain N the exact same images will be loaded. \n",
    "    Input:\n",
    "        N, integer, number of images to load\n",
    "    Output:\n",
    "        faces, (24,24,4,N) numpy array containing images\n",
    "    \"\"\"\n",
    "\n",
    "    # Allocate array to store images\n",
    "    faces = np.zeros((24,24,4,N))\n",
    "\n",
    "    # Iteration variable\n",
    "    i = 0\n",
    "\n",
    "    # Iterate over folders\n",
    "    for subdir, dirs, files in os.walk('./imgs'):\n",
    "\n",
    "        # Iterate over files\n",
    "        for file in files:\n",
    "\n",
    "            # Filepath to load from\n",
    "            filepath = subdir + os.sep + file\n",
    "\n",
    "            # Make sure that the file is a .png\n",
    "            if filepath[-3:] == 'png':\n",
    "\n",
    "                # Load the image\n",
    "                im = cv2.imread(filepath, cv2.IMREAD_UNCHANGED)\n",
    "\n",
    "                # Convert it to RGBA and rescale pixels\n",
    "                faces[:,:,:,i] = cv2.cvtColor(im, cv2.COLOR_BGRA2RGBA)/255.0\n",
    "\n",
    "                i+=1\n",
    "            if i == N:\n",
    "                break\n",
    "                \n",
    "    return faces\n",
    "\n",
    "# Number of faces to keep in final array\n",
    "N = 500\n",
    "\n",
    "# Load all 10000 images\n",
    "faces = load_images(10000)\n",
    "\n",
    "# Select N random images\n",
    "choices = np.random.choice(faces.shape[-1],N, replace = False)\n",
    "faces = faces[:,:,:,choices]\n",
    "\n",
    "# Check that the shape is correct\n",
    "print(faces.shape)"
   ]
  },
  {
   "cell_type": "markdown",
   "metadata": {},
   "source": [
    "With the images now being loaded into the kernel it is now possible to plot and view some of the images picked. Below is a function which plots the first $nplot^2$ images in the input array in a square grid. After the implementation a 8 x 8 grid of the images loaded in the kernel are plotted."
   ]
  },
  {
   "cell_type": "code",
   "execution_count": 6,
   "metadata": {},
   "outputs": [],
   "source": [
    "# Code for plotting images\n",
    "def plotimgs(imgs, nplot = 8, rescale = False, filename = None):\n",
    "    \"\"\"\n",
    "    Plots nplot*nplot images on an nplot x nplot grid. \n",
    "    Saves to given filename if filename is given\n",
    "    Can also rescale the RGB channels\n",
    "    input:\n",
    "        imgs: (24,24,4,N) or (24,24,3,N) array containing images, where N > nplot**2\n",
    "        nplot: integer, nplot**2 images will be plotted\n",
    "        rescale: bool\n",
    "        filename: string, figure will be saved to this location. Should end with \".png\".\n",
    "    \"\"\"\n",
    "    # We will change some of the parameters of matplotlib, so we store the initial ones\n",
    "    oldparams = plt.rcParams['figure.figsize']\n",
    "\n",
    "    # New params to make better plot. There definitely exists better ways of doing this\n",
    "    plt.rcParams['figure.figsize'] = (16, 16)\n",
    "\n",
    "    # Initialize subplots\n",
    "    fig, axes = plt.subplots(nplot,nplot)\n",
    "\n",
    "    # Set background color\n",
    "    plt.gcf().set_facecolor(\"lightgray\")\n",
    "\n",
    "    # Iterate over images\n",
    "    for idx in range(nplot**2):\n",
    "        \n",
    "        # Indices\n",
    "        i = idx//nplot; j = idx%nplot\n",
    "\n",
    "        # Remove axis\n",
    "        axes[i,j].axis('off')\n",
    "\n",
    "        # Rescale RGB channels by dividing my maximal value\n",
    "        if rescale:\n",
    "            scaled_img = np.copy(imgs[:,:,:,idx])\n",
    "            scaled_img[:,:,:3] = scaled_img[:,:,:3]/np.max(scaled_img[:,:,:3])\n",
    "            axes[i,j].imshow(scaled_img)\n",
    "        else:\n",
    "            axes[i,j].imshow(imgs[:,:,:,idx])\n",
    "    \n",
    "    # Tight layout so images will appear closer together\n",
    "    plt.tight_layout()\n",
    "\n",
    "    # Save if filename is given\n",
    "    if filename is not None:\n",
    "        plt.savefig(filename)\n",
    "\n",
    "    plt.show()\n",
    "\n",
    "    # Return to old parameters\n",
    "    plt.rcParams['figure.figsize'] = oldparams"
   ]
  },
  {
   "cell_type": "code",
   "execution_count": 7,
   "metadata": {},
   "outputs": [
    {
     "data": {
      "image/png": "[encoded data removed]",
      "text/plain": [
       "<Figure size 1152x1152 with 64 Axes>"
      ]
     },
     "metadata": {},
     "output_type": "display_data"
    }
   ],
   "source": [
    "# Example of plotting 8 times 8 images stored in \"faces\" and saving the output to a file named \"punks.png\"\n",
    "plotimgs(faces, 8, filename=\"punks.png\")"
   ]
  },
  {
   "cell_type": "markdown",
   "metadata": {},
   "source": [
    "In the above images some common features are clearly possible to be seen, which is a good indication that the NMF-algorithm should be able to reduce the amount of data to store the images. We will now start applying the NMF-algorithm to verify our previous claims, and to see if the algorithm is able to decompose the images into image components."
   ]
  }
 ],
 "metadata": {
  "kernelspec": {
   "display_name": "Python 3",
   "language": "python",
   "name": "python3"
  },
  "language_info": {
   "codemirror_mode": {
    "name": "ipython",
    "version": 3
   },
   "file_extension": ".py",
   "mimetype": "text/x-python",
   "name": "python",
   "nbconvert_exporter": "python",
   "pygments_lexer": "ipython3",
   "version": "3.8.3"
  }
 },
 "nbformat": 4,
 "nbformat_minor": 4
}
